{
  "nbformat": 4,
  "nbformat_minor": 0,
  "metadata": {
    "colab": {
      "provenance": []
    },
    "kernelspec": {
      "name": "python3",
      "display_name": "Python 3"
    },
    "language_info": {
      "name": "python"
    }
  },
  "cells": [
    {
      "cell_type": "code",
      "execution_count": null,
      "metadata": {
        "id": "C9fympaIyZ_T"
      },
      "outputs": [],
      "source": [
        "import pandas as pd\n",
        "import numpy as np\n",
        "import seaborn as sns\n",
        "import matplotlib.pyplot as plt\n",
        "from scipy.stats import ttest_ind\n",
        "\n",
        "# Read in DataFrame\n",
        "\n",
        "df = pd.read_csv('FY2024_068_Contracts_Full_20240214_1.csv', low_memory = False)"
      ]
    },
    {
      "cell_type": "code",
      "source": [
        "# Select the most useful columns for our analysis\n",
        "\n",
        "cleaned_df = df\n",
        "\n",
        "my_list = ['federal_action_obligation','total_dollars_obligated','total_outlayed_amount_for_overall_award','current_total_value_of_award','awarding_agency_name','awarding_office_name','funding_agency_name','funding_office_name','recipient_name','recipient_city_name','recipient_county_name','recipient_state_name','primary_place_of_performance_country_name','transaction_description','prime_award_base_transaction_description','action_type','product_or_service_code_description','naics_description','recovered_materials_sustainability_code','domestic_or_foreign_entity','small_business_competitiveness_demonstration_program','woman_owned_business','women_owned_small_business','economically_disadvantaged_women_owned_small_business','minority_owned_business','contracting_officers_determination_of_business_size','emerging_small_business','us_federal_government','federally_funded_research_and_development_corp','federal_agency','usaspending_permalink','potential_total_value_of_award','base_and_excersised_options_value','base_and_all_options_value','small_disadvantaged_business','award_type_code','award_type','award_type','parent_award_type_code','parent_award_type','prime_award_transaction_recipient_state_fips_code','recipient_state_code','primary_place_of_performance_country_code','primary_place_of_performance_city_name','prime_award_transaction_place_of_performance_county_fips_code','primary_place_of_performance_county_name','prime_award_transaction_place_of_performance_state_fips_code','primary_place_of_performance_state_code','primary_place_of_performance_state_name','primary_place_of_performance_zip_4','prime_award_transaction_place_of_performance_cd_original','prime_award_transaction_place_of_performance_cd_current','us_state_government','city_local_government','interstate_entity','state_controlled_institution_of_higher_learning']"
      ],
      "metadata": {
        "id": "siia6agMyqBa"
      },
      "execution_count": null,
      "outputs": []
    },
    {
      "cell_type": "code",
      "source": [
        "# Filter through unecessary columns to create our new dataframe, cleaned_df\n",
        "\n",
        "for column in df_new:\n",
        "  if column not in my_list:\n",
        "    cleaned_df.drop(columns = column, axis = 1, inplace = True)"
      ],
      "metadata": {
        "id": "cR0jl2Ocyu7A"
      },
      "execution_count": null,
      "outputs": []
    },
    {
      "cell_type": "code",
      "source": [
        "# Create another dataframe using the cleaned dataframe to filter for minority, woman owned, and small businesses\n",
        "\n",
        "business_type_columns = ['woman_owned_business', 'minority_owned_business','women_owned_small_business']  # Add more columns if needed\n",
        "\n",
        "# Create a boolean mask for each business type column\n",
        "boolean_masks = [df_new[column] == 't' for column in business_type_columns]\n",
        "\n",
        "# Combine the boolean masks using logical AND (&) to filter rows where all conditions are True\n",
        "combined_mask = boolean_masks[0]\n",
        "for mask in boolean_masks[1:]:\n",
        "    combined_mask &= mask\n",
        "\n",
        "companies_with_true_values = df_new[combined_mask]\n",
        "\n",
        "# Find any outliers\n",
        "companies_with_true_values.recipient_name.value_counts()"
      ],
      "metadata": {
        "id": "Rb1qepxEzIIA"
      },
      "execution_count": null,
      "outputs": []
    },
    {
      "cell_type": "code",
      "source": [
        "# Create a csv file out of our filtered datafram\n",
        "\n",
        "companies_with_true_values.to_csv('Companies_with_true_values', index=False)"
      ],
      "metadata": {
        "id": "tQfB8zDczWUf"
      },
      "execution_count": null,
      "outputs": []
    }
  ]
}